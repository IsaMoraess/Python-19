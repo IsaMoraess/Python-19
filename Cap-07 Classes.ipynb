{
 "cells": [
  {
   "cell_type": "markdown",
   "id": "ede9efe1",
   "metadata": {},
   "source": [
    "# Classes \n",
    "\n",
    "Em Progmaçao Orientada a objetos (POO), uma classe e uma estrutura que descrevee um objeto, espcificando os atributos e comportamentos que o objeto deve ter. Uma Classe e uma espcie de modelo que define as caracteristicas e açoes que um objeto deve possuir. \n",
    "\n",
    "\n",
    "As Classes são usadas para criar objetos, que são instancia de classe. Cada objeto criado a partir da mesma classe terá os mesmo atributos e comportamentos.\n",
    "\n",
    "Para crisr uma classe reservada em Python utiliza a palavra reservadda em Python class.\n",
    "\n",
    "O nome da classe segue a mesma convenção de nomes ara a criação de funções e variaveis em Python, mas normalmente se usa a primeira letra maiuscula em cada palavra no nome da classe."
   ]
  },
  {
   "cell_type": "code",
   "execution_count": 4,
   "id": "ad4453b9",
   "metadata": {},
   "outputs": [],
   "source": [
    "# Criando uma classe chamada Livro\n",
    "class Livro():\n",
    "    \n",
    "    # Esse metodo vai inicializar cada objeto iado a partir desta classe\n",
    "    # O nome deste metodo e __init__\n",
    "    # (self) e uma referência a cadda atributo da própria classe ( e não de uma classe mãe, por exemplo)\n",
    "    def __init__(self):\n",
    "        \n",
    "        # Atributos sao propiedades \n",
    "        self.titulo = 'Sapiens - Uma breve Historia da humanidade'\n",
    "        self.isbn = 9988888\n",
    "        print(\"Construtor chamado para criar um objeto desta classe.\")\n",
    "        \n",
    "        # Metodos sao funçoes que executam ações nos objetos de classe\n",
    "        def imprime(self):\n",
    "            print(\"Foi criado o livro %s com ISBN %d\" %(self.titulo, self.isbn))"
   ]
  },
  {
   "cell_type": "markdown",
   "id": "6850962d",
   "metadata": {},
   "source": [
    "Em Python, a palavra reservada self e uma referencia ao objeto atual da classe. Quandp um objeto e criado a partir de uma classe, self e utilizado para se referir ao objeto espcifico."
   ]
  },
  {
   "cell_type": "code",
   "execution_count": 5,
   "id": "ccec76f5",
   "metadata": {},
   "outputs": [
    {
     "name": "stdout",
     "output_type": "stream",
     "text": [
      "Construtor chamado para criar um objeto desta classe.\n"
     ]
    }
   ],
   "source": [
    "# Criando uma instancia da classe livro\n",
    "Livro1 = Livro()"
   ]
  },
  {
   "cell_type": "code",
   "execution_count": 6,
   "id": "ad7b6539",
   "metadata": {},
   "outputs": [
    {
     "data": {
      "text/plain": [
       "__main__.Livro"
      ]
     },
     "execution_count": 6,
     "metadata": {},
     "output_type": "execute_result"
    }
   ],
   "source": [
    "# O objeto Livro1 e do tipo Livro\n",
    "type(Livro1)"
   ]
  },
  {
   "cell_type": "code",
   "execution_count": 7,
   "id": "42da6e25",
   "metadata": {},
   "outputs": [
    {
     "data": {
      "text/plain": [
       "'Sapiens - Uma breve Historia da humanidade'"
      ]
     },
     "execution_count": 7,
     "metadata": {},
     "output_type": "execute_result"
    }
   ],
   "source": [
    "# Atributo do objeto Livro1\n",
    "Livro1.titulo"
   ]
  },
  {
   "cell_type": "code",
   "execution_count": 11,
   "id": "338010f7",
   "metadata": {},
   "outputs": [],
   "source": [
    "# CriandoLivro com parametros do metodo Construtor\n",
    "class Livro():\n",
    "    \n",
    "    def __init__(self, titulo, isbn):\n",
    "        self.titulo = titulo\n",
    "        self.isbn = isbn \n",
    "        print(\"Cosntrutor chamando o objeto desta classe.\")\n",
    "        \n",
    "    def imprime(self, titulo, isbn):\n",
    "        print(\"Este e o livro %s e ISBN %d\" %(titulo, isbn))"
   ]
  },
  {
   "cell_type": "code",
   "execution_count": 12,
   "id": "b58134ff",
   "metadata": {},
   "outputs": [
    {
     "name": "stdout",
     "output_type": "stream",
     "text": [
      "Cosntrutor chamando o objeto desta classe.\n"
     ]
    }
   ],
   "source": [
    "# Criando o bjeto Livro2 que e uma instancia da classe livro\n",
    "Livro2 = Livro(\"O poder do Hábito\", 77886611)"
   ]
  },
  {
   "cell_type": "code",
   "execution_count": 13,
   "id": "a29a4023",
   "metadata": {},
   "outputs": [
    {
     "data": {
      "text/plain": [
       "'O poder do Hábito'"
      ]
     },
     "execution_count": 13,
     "metadata": {},
     "output_type": "execute_result"
    }
   ],
   "source": [
    "Livro2.titulo"
   ]
  },
  {
   "cell_type": "code",
   "execution_count": 14,
   "id": "b798ae34",
   "metadata": {},
   "outputs": [
    {
     "name": "stdout",
     "output_type": "stream",
     "text": [
      "Este e o livro O poder do Hábito e ISBN 77886611\n"
     ]
    }
   ],
   "source": [
    "# Metodo do objeto Livro2\n",
    "Livro2.imprime(\"O poder do Hábito\", 77886611)"
   ]
  },
  {
   "cell_type": "code",
   "execution_count": 15,
   "id": "a3750d9e",
   "metadata": {},
   "outputs": [],
   "source": [
    "# Criando a Classe\n",
    "class Algoritimo():\n",
    "    \n",
    "    def __init__(self, tipo_algo):\n",
    "        self.tipo = tipo_algo\n",
    "        print(\"Cosntrutor chamando para criar um objeto dessa classe.\")"
   ]
  },
  {
   "cell_type": "code",
   "execution_count": 16,
   "id": "f74bab0f",
   "metadata": {},
   "outputs": [
    {
     "name": "stdout",
     "output_type": "stream",
     "text": [
      "Cosntrutor chamando para criar um objeto dessa classe.\n"
     ]
    }
   ],
   "source": [
    "# Criando um objeto a partir dessa classe\n",
    "algo1 = Algoritimo(tipo_algo = 'Random Forest')"
   ]
  },
  {
   "cell_type": "code",
   "execution_count": 17,
   "id": "f88a76d2",
   "metadata": {},
   "outputs": [
    {
     "name": "stdout",
     "output_type": "stream",
     "text": [
      "Cosntrutor chamando para criar um objeto dessa classe.\n"
     ]
    }
   ],
   "source": [
    "# Criando um objeto a partir da classe\n",
    "algo2 = Algoritimo(tipo_algo = 'Deep Learning')"
   ]
  },
  {
   "cell_type": "code",
   "execution_count": 18,
   "id": "70534b54",
   "metadata": {},
   "outputs": [
    {
     "data": {
      "text/plain": [
       "'Random Forest'"
      ]
     },
     "execution_count": 18,
     "metadata": {},
     "output_type": "execute_result"
    }
   ],
   "source": [
    "# Atributo da classe\n",
    "algo1.tipo"
   ]
  },
  {
   "cell_type": "code",
   "execution_count": 19,
   "id": "8a9a690d",
   "metadata": {},
   "outputs": [
    {
     "data": {
      "text/plain": [
       "'Deep Learning'"
      ]
     },
     "execution_count": 19,
     "metadata": {},
     "output_type": "execute_result"
    }
   ],
   "source": [
    "# Atributo da classe\n",
    "algo2.tipo"
   ]
  },
  {
   "cell_type": "markdown",
   "id": "1744d725",
   "metadata": {},
   "source": [
    "# Fim"
   ]
  }
 ],
 "metadata": {
  "kernelspec": {
   "display_name": "Python 3 (ipykernel)",
   "language": "python",
   "name": "python3"
  },
  "language_info": {
   "codemirror_mode": {
    "name": "ipython",
    "version": 3
   },
   "file_extension": ".py",
   "mimetype": "text/x-python",
   "name": "python",
   "nbconvert_exporter": "python",
   "pygments_lexer": "ipython3",
   "version": "3.9.13"
  }
 },
 "nbformat": 4,
 "nbformat_minor": 5
}
